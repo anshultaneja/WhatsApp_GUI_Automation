{
 "cells": [
  {
   "cell_type": "code",
   "execution_count": 1,
   "metadata": {},
   "outputs": [],
   "source": [
    "import tkinter as tk\n",
    "import pywhatkit as kit"
   ]
  },
  {
   "cell_type": "code",
   "execution_count": 4,
   "metadata": {},
   "outputs": [
    {
     "name": "stdout",
     "output_type": "stream",
     "text": [
      "In 84 seconds web.whatsapp.com will open and after 20 seconds message will be delivered\n"
     ]
    }
   ],
   "source": [
    "def sendmsg():\n",
    "    global num \n",
    "    global text\n",
    "    global time_h\n",
    "    global time_m\n",
    "    num=x.get()\n",
    "    text=y.get()\n",
    "    time_h=th.get()\n",
    "    time_m=tm.get()\n",
    "    \n",
    "    root.destroy()\n",
    "    kit.sendwhatmsg(num,text,time_h,time_m)\n",
    "\n",
    "    \n",
    "root = tk.Tk()\n",
    "root.configure(bg=\"black\")\n",
    "x = tk.StringVar()\n",
    "y = tk.StringVar()\n",
    "th = tk.IntVar()\n",
    "tm = tk.IntVar()\n",
    "\n",
    "root.geometry(\"300x200\")\n",
    "root.title(\"WhatsApp GUI\")\n",
    "label1 = tk.Label(root,text=\"Enter Your Number:\",bg=\"darksalmon\").grid(row=0,column=0)\n",
    "label2 = tk.Label(root,text=\"Enter Your Text:\",bg=\"darksalmon\").grid(row=1,column=0)\n",
    "label3 = tk.Label(root,text=\"Enter Time in Hour:\",bg=\"darksalmon\").grid(row=2,column=0)\n",
    "label4 = tk.Label(root,text=\"Enter Time in Min:\",bg=\"darksalmon\").grid(row=3,column=0)\n",
    "\n",
    "entry1 = tk.Entry(root,textvariable=x,bg=\"tomato\").grid(row=0,column=1)\n",
    "entry2 = tk.Entry(root,textvariable=y,bg=\"slateblue\").grid(row=1,column=1)\n",
    "entry3 = tk.Entry(root,textvariable=th,bg=\"violet\").grid(row=2,column=1)\n",
    "entry4 = tk.Entry(root,textvariable=tm,bg=\"mediumseagreen\").grid(row=3,column=1)\n",
    "button = tk.Button(root,text=\"Send\",command=sendmsg).grid(row=4,column=0)\n",
    "\n",
    "root.mainloop()\n"
   ]
  }
 ],
 "metadata": {
  "kernelspec": {
   "display_name": "Python 3",
   "language": "python",
   "name": "python3"
  },
  "language_info": {
   "codemirror_mode": {
    "name": "ipython",
    "version": 3
   },
   "file_extension": ".py",
   "mimetype": "text/x-python",
   "name": "python",
   "nbconvert_exporter": "python",
   "pygments_lexer": "ipython3",
   "version": "3.7.9"
  }
 },
 "nbformat": 4,
 "nbformat_minor": 4
}
